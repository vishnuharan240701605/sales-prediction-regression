{
  "nbformat": 4,
  "nbformat_minor": 0,
  "metadata": {
    "colab": {
      "provenance": []
    },
    "kernelspec": {
      "name": "python3",
      "display_name": "Python 3"
    },
    "language_info": {
      "name": "python"
    }
  },
  "cells": [
    {
      "cell_type": "markdown",
      "source": [
        "## 📦 Step 1: Importing Required Libraries\n",
        "\n",
        "Let's begin by importing the essential libraries:\n",
        "\n",
        "- **NumPy** for numerical operations  \n",
        "- **Pandas** for handling tabular data  \n",
        "- **Matplotlib** for plotting and visualization\n"
      ],
      "metadata": {
        "id": "yIgI8MVYFUwU"
      }
    },
    {
      "cell_type": "code",
      "execution_count": 26,
      "metadata": {
        "id": "COrDyEzm7dQo"
      },
      "outputs": [],
      "source": [
        "import numpy as np\n",
        "import pandas as pd\n",
        "import matplotlib.pyplot as plt"
      ]
    },
    {
      "cell_type": "markdown",
      "source": [
        "## 📄 Step 2: Load the Dataset\n",
        "\n",
        "We are using the **Advertising dataset**, which contains:\n",
        "\n",
        "- Advertising budget spent on **TV, Radio, and Newspaper**  \n",
        "- Corresponding **Sales** figures\n",
        "\n",
        "➡️ In this project, we'll only use **TV advertising** as the independent variable to predict **Sales** using **Simple Linear Regression**.\n"
      ],
      "metadata": {
        "id": "97K2A2xoHWbG"
      }
    },
    {
      "cell_type": "code",
      "source": [
        "data=pd.read_csv(\"https://www.statlearning.com/s/Advertising.csv\")\n",
        "TV=data[\"TV\"]\n",
        "sales=data[\"sales\"]"
      ],
      "metadata": {
        "id": "FYOvvbFH7nIU"
      },
      "execution_count": 27,
      "outputs": []
    },
    {
      "cell_type": "markdown",
      "source": [
        "## 🧮 Step 3: Extract Variables\n",
        "\n",
        "We'll extract:\n",
        "\n",
        "- `x` → **TV** advertising spend (in $1000s)  \n",
        "- `y` → **Sales** (in units)\n",
        "\n",
        "Our goal is to learn the relationship between **TV spend** and **sales performance**.\n"
      ],
      "metadata": {
        "id": "GVZ2kecqHfxH"
      }
    },
    {
      "cell_type": "markdown",
      "source": [
        "# 📈 Calculating Slope and Intercept Manually (Least Squares Method)\n",
        "\n",
        "To find the **best-fit line** for a dataset using linear regression, we use the **least squares method**:\n",
        "\n",
        "---\n",
        "\n",
        "## 🔹 Step 1: Calculate the Means  \n",
        "- Mean of x:  \n",
        "  $$\n",
        "  \\bar{x} = \\frac{1}{n} \\sum x_i\n",
        "  $$\n",
        "- Mean of y:  \n",
        "  $$\n",
        "  \\bar{y} = \\frac{1}{n} \\sum y_i\n",
        "  $$\n",
        "\n",
        "---\n",
        "\n",
        "## 🔹 Step 2: Calculate the Slope (m)  \n",
        "$$\n",
        "m = \\frac{\\sum (x_i - \\bar{x})(y_i - \\bar{y})}{\\sum (x_i - \\bar{x})^2}\n",
        "$$\n",
        "\n",
        "---\n",
        "\n",
        "## 🔹 Step 3: Calculate the Intercept (c)  \n",
        "$$\n",
        "c = \\bar{y} - m \\cdot \\bar{x}\n",
        "$$\n",
        "\n",
        "---\n",
        "\n",
        "## ✅ Final Best-Fit Line Equation  \n",
        "$$\n",
        "\\boxed{y = m \\cdot x + c}\n",
        "$$\n",
        "\n",
        "---\n",
        "\n",
        "✍️ This method ensures the line minimizes the total squared vertical distance from each point to the line — hence the name **\"least squares\"**.\n"
      ],
      "metadata": {
        "id": "qbfE80UmItHY"
      }
    },
    {
      "cell_type": "code",
      "source": [
        "x=np.array(TV)\n",
        "y=np.array(sales)\n",
        "\n",
        "x_mean=np.mean(x)\n",
        "y_mean=np.mean(y)\n",
        "\n",
        "sum_xy=0\n",
        "sum_x=0\n",
        "\n",
        "for i in range(len(x)):\n",
        "    sum_xy+=(x[i]-x_mean)*(y[i]-y_mean)\n",
        "    sum_x+=(x[i]-x_mean)**2\n",
        "\n",
        "m=sum_xy/sum_x\n",
        "c=y_mean-(m*x_mean)\n",
        "\n",
        "print(\"slope-> \",m,\"\\n\")\n",
        "print(\"Intercept-> \",c)"
      ],
      "metadata": {
        "colab": {
          "base_uri": "https://localhost:8080/"
        },
        "id": "mTfVChC58i3B",
        "outputId": "24e21f52-c958-4222-ed46-b7f9f37479a0"
      },
      "execution_count": 28,
      "outputs": [
        {
          "output_type": "stream",
          "name": "stdout",
          "text": [
            "slope->  0.04753664043301969 \n",
            "\n",
            "Intercept->  7.032593549127704\n"
          ]
        }
      ]
    },
    {
      "cell_type": "markdown",
      "source": [
        "### 🔮Step 4: Predicting Values\n",
        "\n",
        "To predict values using the best-fit line, we use:\n",
        "\n",
        "$$\n",
        "y_{pred} = m \\cdot x + c\n",
        "$$\n",
        "\n",
        "Where:  \n",
        "- \\( y_pred \\) is the predicted value  \n",
        "- \\( m \\) is the slope  \n",
        "- \\( c \\) is the intercept  \n",
        "- \\( x \\) is the input/feature value\n"
      ],
      "metadata": {
        "id": "iSnSLMSuOB8H"
      }
    },
    {
      "cell_type": "code",
      "source": [
        "y_pred=m*x+c"
      ],
      "metadata": {
        "id": "UX1IqGFE_nBM"
      },
      "execution_count": 29,
      "outputs": []
    },
    {
      "cell_type": "markdown",
      "source": [
        "## 📉step 5: Visualizing the Best Fit Line\n",
        "\n",
        "This plot helps us understand how well our line fits the data:\n",
        "\n",
        "- **Red stars**: Actual sales data  \n",
        "- **Blue line**: Predicted line using regression\n",
        "\n",
        "A good fit will show the blue line passing through the trend of red points.\n",
        "\n"
      ],
      "metadata": {
        "id": "JisTu48lKhAh"
      }
    },
    {
      "cell_type": "code",
      "source": [
        "plt.figure(figsize=(6,6))\n",
        "plt.scatter(x,y,marker=\"*\",color=\"red\",label=\" Actual points\")\n",
        "plt.plot(x,y_pred,color=\"blue\",label=\"Best fit line\")\n",
        "plt.xlabel(\"TV\")\n",
        "plt.ylabel(\"Sales\")\n",
        "plt.title(\"Sales predictor\")\n",
        "plt.legend()\n",
        "plt.show()"
      ],
      "metadata": {
        "colab": {
          "base_uri": "https://localhost:8080/",
          "height": 564
        },
        "id": "MJY6rd75AYNB",
        "outputId": "a0768720-b1e4-4f69-f35b-e4ca89873442"
      },
      "execution_count": 30,
      "outputs": [
        {
          "output_type": "display_data",
          "data": {
            "text/plain": [
              "<Figure size 600x600 with 1 Axes>"
            ],
            "image/png": "[encoded data removed]"
          },
          "metadata": {}
        }
      ]
    },
    {
      "cell_type": "markdown",
      "source": [
        "## 🔮step 6: Making Predictions\n",
        "\n",
        "We now define a `predict()` function that takes TV advertising spend (in **$1000s**) and predicts the expected **Sales** using the learned linear model:\n",
        "\n",
        "_Formula:_  \n",
        "\\[\n",
        " Sales = m*TV+ c\n",
        "\\]\n",
        "\n",
        "#### Example:\n",
        "If m = 2, c = 3, and x = 4,  \n",
        "$$\n",
        "y_{pred} = 2 \\cdot 4 + 3 = 11\n",
        "$$\n",
        "\n"
      ],
      "metadata": {
        "id": "vAPJKq0RK9J9"
      }
    },
    {
      "cell_type": "code",
      "source": [
        "def predict(x):\n",
        "    return m * x + c\n",
        "\n",
        "spend = float(input(\"Enter TV advertising spend (in $1000s): \"))\n",
        "prediction = predict(spend)\n",
        "\n",
        "print(f\"Predicted Sales: {prediction:.2f} (in $1000s)\")"
      ],
      "metadata": {
        "colab": {
          "base_uri": "https://localhost:8080/"
        },
        "id": "RfUG1lMDB9BP",
        "outputId": "d83e9ff0-0769-48d6-a28e-a5a37333b552"
      },
      "execution_count": 31,
      "outputs": [
        {
          "output_type": "stream",
          "name": "stdout",
          "text": [
            "Enter TV advertising spend (in $1000s): 170\n",
            "Predicted Sales: 15.11 (in $1000s)\n"
          ]
        }
      ]
    },
    {
      "cell_type": "markdown",
      "source": [
        "## 📏Step 7: Calculating R² (Coefficient of Determination)\n",
        "\n",
        "The **R² score** tells us how well our regression line fits the data. It ranges from 0 to 1, where:\n",
        "\n",
        "- **1** means a perfect fit (all points lie exactly on the line)\n",
        "- **0** means the line does no better than the mean of y\n",
        "\n",
        "---\n",
        "\n",
        "### 🧮 Formula:\n",
        "$$\n",
        "R^2 = 1 - \\frac{\\sum (y_{pred} - y)^2}{\\sum (\\bar{y} - y)^2}\n",
        "$$\n",
        "\n",
        "\n",
        "A higher R² means your model is doing a better job predicting the values.\n"
      ],
      "metadata": {
        "id": "zrzgs9wFJHrR"
      }
    },
    {
      "cell_type": "code",
      "source": [
        "from google.colab import drive\n",
        "drive.mount('/content/drive')"
      ],
      "metadata": {
        "id": "PAP33Zm8Lrfl"
      },
      "execution_count": null,
      "outputs": []
    },
    {
      "cell_type": "code",
      "source": [
        "r2=1-sum((y_pred-y)**2)/sum((y_mean-y)**2)\n",
        "print(r2)"
      ],
      "metadata": {
        "colab": {
          "base_uri": "https://localhost:8080/"
        },
        "id": "wzXyyMjtHJMy",
        "outputId": "45ca006c-fd06-47eb-a1a3-5cbdbc957d57"
      },
      "execution_count": 32,
      "outputs": [
        {
          "output_type": "stream",
          "name": "stdout",
          "text": [
            "0.6118750508500708\n"
          ]
        }
      ]
    },
    {
      "cell_type": "markdown",
      "source": [
        "---\n",
        "\n",
        "## 📝 Summary\n",
        "\n",
        "In this notebook, we implemented **linear regression manually using the least squares method**. Here’s what we did:\n",
        "\n",
        "- Calculated the **mean** of x and y.\n",
        "- Computed the **slope (m)** and **intercept (c)** using the formulas.\n",
        "- Derived the **best-fit line equation**:  \n",
        "  $$\n",
        "  y = m \\cdot x + c\n",
        "  $$\n",
        "- Made **predictions** using this equation.\n",
        "- Visualized the regression line against the data points.\n",
        "\n",
        "This approach helps understand how regression works **under the hood**, without relying on external libraries like `scikit-learn`.\n",
        "\n",
        "---\n",
        "\n",
        "✅ Next Step: You can now try applying this on different datasets or extend it with error metrics like **R²**, **MSE**, etc.\n"
      ],
      "metadata": {
        "id": "JelFssMvGT37"
      }
    }
  ]
}